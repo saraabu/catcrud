{
 "cells": [
  {
   "cell_type": "code",
   "execution_count": 2,
   "id": "f06f4e2d-278b-49f1-8da3-163dfba82b3f",
   "metadata": {
    "tags": []
   },
   "outputs": [
    {
     "name": "stdout",
     "output_type": "stream",
     "text": [
      "CatCrud table created successfully.\n",
      "1. Create a new cat\n",
      "2. Read existing cats\n",
      "3. Update a cat\n",
      "4. Delete a cat\n",
      "5. Exit\n"
     ]
    },
    {
     "name": "stdin",
     "output_type": "stream",
     "text": [
      "Enter your choice:  1\n",
      "Enter your cat's name:  fufu\n",
      "Enter your cat's breed:  shorthair\n"
     ]
    },
    {
     "name": "stdout",
     "output_type": "stream",
     "text": [
      "New cat data inserted successfully!\n",
      "1. Create a new cat\n",
      "2. Read existing cats\n",
      "3. Update a cat\n",
      "4. Delete a cat\n",
      "5. Exit\n"
     ]
    },
    {
     "name": "stdin",
     "output_type": "stream",
     "text": [
      "Enter your choice:  2\n"
     ]
    },
    {
     "name": "stdout",
     "output_type": "stream",
     "text": [
      "Existing cat data:\n",
      "Name: fufu\n",
      "Breed: shorthair\n",
      "--------------------\n",
      "1. Create a new cat\n",
      "2. Read existing cats\n",
      "3. Update a cat\n",
      "4. Delete a cat\n",
      "5. Exit\n"
     ]
    },
    {
     "name": "stdin",
     "output_type": "stream",
     "text": [
      "Enter your choice:  3\n",
      "Enter the name of the cat you want to update:  fufu\n",
      "Enter a new breed for your cat:  longhair\n"
     ]
    },
    {
     "name": "stdout",
     "output_type": "stream",
     "text": [
      "Cat data updated successfully\n",
      "1. Create a new cat\n",
      "2. Read existing cats\n",
      "3. Update a cat\n",
      "4. Delete a cat\n",
      "5. Exit\n"
     ]
    },
    {
     "name": "stdin",
     "output_type": "stream",
     "text": [
      "Enter your choice:  4\n",
      "Enter the name of the cat you wish to delete:  fufu\n"
     ]
    },
    {
     "name": "stdout",
     "output_type": "stream",
     "text": [
      "Cat data deleted successfully\n",
      "1. Create a new cat\n",
      "2. Read existing cats\n",
      "3. Update a cat\n",
      "4. Delete a cat\n",
      "5. Exit\n"
     ]
    },
    {
     "name": "stdin",
     "output_type": "stream",
     "text": [
      "Enter your choice:  5\n"
     ]
    }
   ],
   "source": [
    "import sqlite3\n",
    "\n",
    "# Function to connect to the SQLite database\n",
    "def connect_to_database():\n",
    "    try:\n",
    "        # Connect to SQLite database\n",
    "        connection = sqlite3.connect('CatCrud.db')\n",
    "        return connection\n",
    "    except sqlite3.Error as e:\n",
    "        print(\"Error connecting to SQLite database:\", e)\n",
    "        return None\n",
    "\n",
    "# Function to create the CatCrud table\n",
    "def create_table(connection):\n",
    "    try:\n",
    "        cursor = connection.cursor()\n",
    "        cursor.execute('''\n",
    "            CREATE TABLE IF NOT EXISTS CatCrud (\n",
    "                id INTEGER PRIMARY KEY,\n",
    "                name TEXT,\n",
    "                breed TEXT\n",
    "            )\n",
    "        ''')\n",
    "        connection.commit()\n",
    "        cursor.close()\n",
    "        print(\"CatCrud table created successfully.\")\n",
    "    except sqlite3.Error as e:\n",
    "        print(\"Error creating CatCrud table:\", e)\n",
    "\n",
    "# Function to insert a new cat record\n",
    "def create_ur_new_cat(connection, name, breed):\n",
    "    try:\n",
    "        cursor = connection.cursor()\n",
    "        cursor.execute('''\n",
    "            INSERT INTO CatCrud (name, breed) VALUES (?, ?)\n",
    "        ''', (name, breed))\n",
    "        connection.commit()\n",
    "        cursor.close()\n",
    "        print(\"New cat data inserted successfully!\")\n",
    "    except sqlite3.Error as e:\n",
    "        print(\"Error creating new cat:\", e)\n",
    "\n",
    "# Function to read existing cats\n",
    "def read_existing_cats(connection):\n",
    "    try:\n",
    "        cursor = connection.cursor()\n",
    "        cursor.execute('''\n",
    "            SELECT * FROM CatCrud\n",
    "        ''')\n",
    "        result = cursor.fetchall()\n",
    "        cursor.close()\n",
    "        if not result:\n",
    "            print(\"No existing cat data found.\")\n",
    "        else:\n",
    "            print(\"Existing cat data:\")\n",
    "            for row in result:\n",
    "                print(\"Name:\", row[1])\n",
    "                print(\"Breed:\", row[2])\n",
    "                print(\"--------------------\")\n",
    "    except sqlite3.Error as e:\n",
    "        print(\"Error reading existing cats:\", e)\n",
    "\n",
    "# Function to update a cat's breed\n",
    "def update_ur_cat(connection, name, new_breed):\n",
    "    try:\n",
    "        cursor = connection.cursor()\n",
    "        cursor.execute('''\n",
    "            UPDATE CatCrud SET breed = ? WHERE name = ?\n",
    "        ''', (new_breed, name))\n",
    "        connection.commit()\n",
    "        cursor.close()\n",
    "        print(\"Cat data updated successfully\")\n",
    "    except sqlite3.Error as e:\n",
    "        print(\"Error updating cat:\", e)\n",
    "\n",
    "# Function to delete a cat record\n",
    "def delete_ur_cat(connection, name):\n",
    "    try:\n",
    "        cursor = connection.cursor()\n",
    "        cursor.execute('''\n",
    "            DELETE FROM CatCrud WHERE name = ?\n",
    "        ''', (name,))\n",
    "        connection.commit()\n",
    "        cursor.close()\n",
    "        print(\"Cat data deleted successfully\")\n",
    "    except sqlite3.Error as e:\n",
    "        print(\"Error deleting cat:\", e)\n",
    "\n",
    "# Menu\n",
    "def menu():\n",
    "    print(\"1. Create a new cat\")\n",
    "    print(\"2. Read existing cats\")\n",
    "    print(\"3. Update a cat\")\n",
    "    print(\"4. Delete a cat\")\n",
    "    print(\"5. Exit\")\n",
    "\n",
    "try:\n",
    "    connection = connect_to_database()\n",
    "    if connection:\n",
    "        # Create the CatCrud table if it doesn't exist\n",
    "        create_table(connection)\n",
    "\n",
    "        while True:\n",
    "            menu()\n",
    "            choice = input(\"Enter your choice: \")\n",
    "\n",
    "            if choice == '1':\n",
    "                name = input(\"Enter your cat's name: \")\n",
    "                breed = input(\"Enter your cat's breed: \")\n",
    "                create_ur_new_cat(connection, name, breed)\n",
    "            elif choice == '2':\n",
    "                read_existing_cats(connection)\n",
    "            elif choice == '3':\n",
    "                name = input(\"Enter the name of the cat you want to update: \")\n",
    "                new_breed = input(\"Enter a new breed for your cat: \")\n",
    "                update_ur_cat(connection, name, new_breed)\n",
    "            elif choice == '4':\n",
    "                name = input(\"Enter the name of the cat you wish to delete: \")\n",
    "                delete_ur_cat(connection, name)\n",
    "            elif choice == '5':\n",
    "                break\n",
    "            else:\n",
    "                print(\"Invalid choice. Please choose again.\")\n",
    "\n",
    "except KeyboardInterrupt:\n",
    "    print(\"Program interruption\")\n",
    "finally:\n",
    "    # Closing connection\n",
    "    if connection:\n",
    "        connection.close()\n"
   ]
  },
  {
   "cell_type": "code",
   "execution_count": null,
   "id": "23b66980-df72-4531-a315-ab83dedb3f92",
   "metadata": {},
   "outputs": [],
   "source": []
  }
 ],
 "metadata": {
  "kernelspec": {
   "display_name": "Python 3 (ipykernel)",
   "language": "python",
   "name": "python3"
  },
  "language_info": {
   "codemirror_mode": {
    "name": "ipython",
    "version": 3
   },
   "file_extension": ".py",
   "mimetype": "text/x-python",
   "name": "python",
   "nbconvert_exporter": "python",
   "pygments_lexer": "ipython3",
   "version": "3.11.5"
  }
 },
 "nbformat": 4,
 "nbformat_minor": 5
}
